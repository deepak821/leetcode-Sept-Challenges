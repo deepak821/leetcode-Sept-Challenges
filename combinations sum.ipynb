{
 "cells": [
  {
   "cell_type": "markdown",
   "metadata": {},
   "source": [
    "### Find all possible combinations of k numbers that add up to a number n,  given that only numbers from 1 to 9 can be used and each combination should be a unique set of numbers.\n",
    "\n",
    "Note:\n",
    "\n",
    "All numbers will be positive integers.\n",
    "The solution set must not contain duplicate combinations.\n",
    "Example 1:\n",
    "\n",
    "Input: k = 3, n = 7\n",
    "Output: [[1,2,4]]"
   ]
  },
  {
   "cell_type": "code",
   "execution_count": 5,
   "metadata": {},
   "outputs": [
    {
     "name": "stdout",
     "output_type": "stream",
     "text": [
      "[(1, 2, 6), (1, 3, 5), (2, 3, 4)]\n"
     ]
    }
   ],
   "source": [
    "from itertools import combinations \n",
    "def combinationSum3(k, n):\n",
    "    ls = [i for i in range(1,10)]\n",
    "    res = []\n",
    "    com = combinations(ls,k)\n",
    "    for i in list(com):\n",
    "        if sum(i)==n:\n",
    "            res.append(i)\n",
    "    return res\n",
    "print(combinationSum3(3,9))"
   ]
  }
 ],
 "metadata": {
  "kernelspec": {
   "display_name": "Python 3",
   "language": "python",
   "name": "python3"
  },
  "language_info": {
   "codemirror_mode": {
    "name": "ipython",
    "version": 3
   },
   "file_extension": ".py",
   "mimetype": "text/x-python",
   "name": "python",
   "nbconvert_exporter": "python",
   "pygments_lexer": "ipython3",
   "version": "3.8.3"
  }
 },
 "nbformat": 4,
 "nbformat_minor": 4
}
