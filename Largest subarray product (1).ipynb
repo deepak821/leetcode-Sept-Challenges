{
 "cells": [
  {
   "cell_type": "markdown",
   "metadata": {},
   "source": [
    "### Given an integer array nums, find the contiguous subarray within an array (containing at least one number) which has the largest product.\n",
    "\n",
    "Example 1:\n",
    "\n",
    "Input: [2,3,-2,4]\n",
    "Output: 6\n",
    "Explanation:- [2,3] has the largest product 6."
   ]
  },
  {
   "cell_type": "code",
   "execution_count": 8,
   "metadata": {},
   "outputs": [
    {
     "name": "stdout",
     "output_type": "stream",
     "text": [
      "1728000\n"
     ]
    }
   ],
   "source": [
    "def maxProduct(nums):\n",
    "        ls=[]\n",
    "        for i in range(len(nums)-1):\n",
    "            x = nums[i]\n",
    "            for j in range(i+1,len(nums)):\n",
    "                x = x*nums[j]\n",
    "                ls.append(x)\n",
    "        ls.extend(nums)\n",
    "        if len(ls)>0:\n",
    "            res = max(ls)\n",
    "        else:\n",
    "            res = 0\n",
    "        return res\n",
    "\n",
    "print(maxProduct([-9,3,2,0,1,-6,-8,-6,1,1,20,10,5,-3,2]))"
   ]
  },
  {
   "cell_type": "markdown",
   "metadata": {},
   "source": [
    "Or,alternatively with lesser time --->"
   ]
  },
  {
   "cell_type": "code",
   "execution_count": 12,
   "metadata": {},
   "outputs": [
    {
     "name": "stdout",
     "output_type": "stream",
     "text": [
      "6\n"
     ]
    }
   ],
   "source": [
    "def maxProduct(nums):\n",
    "        maxm = -999\n",
    "        for i in range(len(nums)-1):\n",
    "            x = nums[i]\n",
    "            for j in range(i+1,len(nums)):\n",
    "                x = x*nums[j]\n",
    "                if x>maxm:\n",
    "                    maxm = x\n",
    "        if len(nums)>0:\n",
    "            if max(nums)>maxm:\n",
    "                maxm=max(nums)\n",
    "        else:\n",
    "            maxm=0\n",
    "        return maxm\n",
    "\n",
    "print(maxProduct([2,3,-2,4]))"
   ]
  }
 ],
 "metadata": {
  "kernelspec": {
   "display_name": "Python 3",
   "language": "python",
   "name": "python3"
  },
  "language_info": {
   "codemirror_mode": {
    "name": "ipython",
    "version": 3
   },
   "file_extension": ".py",
   "mimetype": "text/x-python",
   "name": "python",
   "nbconvert_exporter": "python",
   "pygments_lexer": "ipython3",
   "version": "3.8.3"
  }
 },
 "nbformat": 4,
 "nbformat_minor": 4
}
